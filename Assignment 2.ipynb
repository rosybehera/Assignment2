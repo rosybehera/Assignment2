{
 "cells": [
  {
   "cell_type": "markdown",
   "id": "f19c731e",
   "metadata": {},
   "source": [
    "# 1"
   ]
  },
  {
   "cell_type": "code",
   "execution_count": 2,
   "id": "b59044ce",
   "metadata": {
    "ExecuteTime": {
     "end_time": "2022-12-20T06:05:22.355896Z",
     "start_time": "2022-12-20T06:05:19.805356Z"
    }
   },
   "outputs": [],
   "source": [
    "import pandas as pd \n",
    "import matplotlib.pyplot as plt"
   ]
  },
  {
   "cell_type": "code",
   "execution_count": 3,
   "id": "0fc25570",
   "metadata": {
    "ExecuteTime": {
     "end_time": "2022-12-20T06:05:23.176176Z",
     "start_time": "2022-12-20T06:05:22.358846Z"
    }
   },
   "outputs": [],
   "source": [
    "df=pd.read_excel('question1.xlsx')"
   ]
  },
  {
   "cell_type": "code",
   "execution_count": 4,
   "id": "ba660d27",
   "metadata": {
    "ExecuteTime": {
     "end_time": "2022-12-20T06:05:23.215537Z",
     "start_time": "2022-12-20T06:05:23.176176Z"
    }
   },
   "outputs": [
    {
     "data": {
      "text/html": [
       "<div>\n",
       "<style scoped>\n",
       "    .dataframe tbody tr th:only-of-type {\n",
       "        vertical-align: middle;\n",
       "    }\n",
       "\n",
       "    .dataframe tbody tr th {\n",
       "        vertical-align: top;\n",
       "    }\n",
       "\n",
       "    .dataframe thead th {\n",
       "        text-align: right;\n",
       "    }\n",
       "</style>\n",
       "<table border=\"1\" class=\"dataframe\">\n",
       "  <thead>\n",
       "    <tr style=\"text-align: right;\">\n",
       "      <th></th>\n",
       "      <th>Name of company</th>\n",
       "      <th>Measure X</th>\n",
       "    </tr>\n",
       "  </thead>\n",
       "  <tbody>\n",
       "    <tr>\n",
       "      <th>0</th>\n",
       "      <td>Allied Signal</td>\n",
       "      <td>0.2423</td>\n",
       "    </tr>\n",
       "    <tr>\n",
       "      <th>1</th>\n",
       "      <td>Bankers Trust</td>\n",
       "      <td>0.2553</td>\n",
       "    </tr>\n",
       "    <tr>\n",
       "      <th>2</th>\n",
       "      <td>General Mills</td>\n",
       "      <td>0.2541</td>\n",
       "    </tr>\n",
       "    <tr>\n",
       "      <th>3</th>\n",
       "      <td>ITT Industries</td>\n",
       "      <td>0.2414</td>\n",
       "    </tr>\n",
       "    <tr>\n",
       "      <th>4</th>\n",
       "      <td>J.P.Morgan &amp; Co.</td>\n",
       "      <td>0.2962</td>\n",
       "    </tr>\n",
       "  </tbody>\n",
       "</table>\n",
       "</div>"
      ],
      "text/plain": [
       "    Name of company  Measure X\n",
       "0     Allied Signal     0.2423\n",
       "1     Bankers Trust     0.2553\n",
       "2     General Mills     0.2541\n",
       "3    ITT Industries     0.2414\n",
       "4  J.P.Morgan & Co.     0.2962"
      ]
     },
     "execution_count": 4,
     "metadata": {},
     "output_type": "execute_result"
    }
   ],
   "source": [
    "df.head()"
   ]
  },
  {
   "cell_type": "code",
   "execution_count": 5,
   "id": "f0ba9579",
   "metadata": {
    "ExecuteTime": {
     "end_time": "2022-12-20T06:05:23.247391Z",
     "start_time": "2022-12-20T06:05:23.219092Z"
    }
   },
   "outputs": [
    {
     "data": {
      "text/plain": [
       "count    15.000000\n",
       "mean      0.332713\n",
       "std       0.169454\n",
       "min       0.241400\n",
       "25%       0.254700\n",
       "50%       0.267100\n",
       "75%       0.339750\n",
       "max       0.913600\n",
       "Name: Measure X, dtype: float64"
      ]
     },
     "execution_count": 5,
     "metadata": {},
     "output_type": "execute_result"
    }
   ],
   "source": [
    "df['Measure X'].describe()"
   ]
  },
  {
   "cell_type": "code",
   "execution_count": 6,
   "id": "90176106",
   "metadata": {
    "ExecuteTime": {
     "end_time": "2022-12-20T06:05:31.393943Z",
     "start_time": "2022-12-20T06:05:31.377946Z"
    }
   },
   "outputs": [
    {
     "data": {
      "text/plain": [
       "0.028714661238095233"
      ]
     },
     "execution_count": 6,
     "metadata": {},
     "output_type": "execute_result"
    }
   ],
   "source": [
    "df['Measure X'].var()"
   ]
  },
  {
   "cell_type": "code",
   "execution_count": 7,
   "id": "5a741845",
   "metadata": {
    "ExecuteTime": {
     "end_time": "2022-12-20T06:05:32.176557Z",
     "start_time": "2022-12-20T06:05:32.160923Z"
    }
   },
   "outputs": [
    {
     "data": {
      "text/plain": [
       "0.3327133333333333"
      ]
     },
     "execution_count": 7,
     "metadata": {},
     "output_type": "execute_result"
    }
   ],
   "source": [
    "df['Measure X'].mean()"
   ]
  },
  {
   "cell_type": "code",
   "execution_count": 9,
   "id": "835290a4",
   "metadata": {
    "ExecuteTime": {
     "end_time": "2022-12-20T06:07:25.064513Z",
     "start_time": "2022-12-20T06:07:25.049005Z"
    }
   },
   "outputs": [
    {
     "data": {
      "text/plain": [
       "0.16945400921222029"
      ]
     },
     "execution_count": 9,
     "metadata": {},
     "output_type": "execute_result"
    }
   ],
   "source": [
    "df['Measure X'].std()"
   ]
  },
  {
   "cell_type": "code",
   "execution_count": 8,
   "id": "d72d2656",
   "metadata": {
    "ExecuteTime": {
     "end_time": "2022-12-19T06:09:44.810930Z",
     "start_time": "2022-12-19T06:09:44.694309Z"
    }
   },
   "outputs": [
    {
     "data": {
      "image/png": "[encoded data removed]",
      "text/plain": [
       "<Figure size 640x480 with 1 Axes>"
      ]
     },
     "metadata": {},
     "output_type": "display_data"
    }
   ],
   "source": [
    "plt.boxplot(df['Measure X'],vert=True)\n",
    "plt.show()"
   ]
  },
  {
   "cell_type": "code",
   "execution_count": 9,
   "id": "3db2429a",
   "metadata": {
    "ExecuteTime": {
     "end_time": "2022-12-19T06:10:41.948102Z",
     "start_time": "2022-12-19T06:10:41.781591Z"
    }
   },
   "outputs": [
    {
     "data": {
      "text/plain": [
       "(array([10.,  2.,  2.,  0.,  0.,  0.,  0.,  0.,  0.,  1.]),\n",
       " array([0.2414 , 0.30862, 0.37584, 0.44306, 0.51028, 0.5775 , 0.64472,\n",
       "        0.71194, 0.77916, 0.84638, 0.9136 ]),\n",
       " <BarContainer object of 10 artists>)"
      ]
     },
     "execution_count": 9,
     "metadata": {},
     "output_type": "execute_result"
    },
    {
     "data": {
      "image/png": "[encoded data removed]",
      "text/plain": [
       "<Figure size 640x480 with 1 Axes>"
      ]
     },
     "metadata": {},
     "output_type": "display_data"
    }
   ],
   "source": [
    "plt.hist(df['Measure X'])"
   ]
  },
  {
   "cell_type": "markdown",
   "id": "06269dfe",
   "metadata": {},
   "source": [
    "# Q4"
   ]
  },
  {
   "cell_type": "code",
   "execution_count": 1,
   "id": "314b11bc",
   "metadata": {
    "ExecuteTime": {
     "end_time": "2023-01-15T15:18:04.599188Z",
     "start_time": "2023-01-15T15:18:03.701375Z"
    }
   },
   "outputs": [
    {
     "data": {
      "text/plain": [
       "0.02475124687812502"
      ]
     },
     "execution_count": 1,
     "metadata": {},
     "output_type": "execute_result"
    }
   ],
   "source": [
    "# we took p as 1/200 ( as we want no of calls rejected )\n",
    "from scipy.stats import binom\n",
    "bi=binom(5,0.005) ## n,p  we need P(x>=1) = 1- P(x<1)\n",
    "1-bi.cdf(0) ###########  "
   ]
  },
  {
   "cell_type": "markdown",
   "id": "0fef985e",
   "metadata": {},
   "source": [
    "# # so the probability is 2.4% "
   ]
  },
  {
   "cell_type": "code",
   "execution_count": null,
   "id": "ae2ba321",
   "metadata": {},
   "outputs": [],
   "source": []
  }
 ],
 "metadata": {
  "kernelspec": {
   "display_name": "Python 3 (ipykernel)",
   "language": "python",
   "name": "python3"
  },
  "language_info": {
   "codemirror_mode": {
    "name": "ipython",
    "version": 3
   },
   "file_extension": ".py",
   "mimetype": "text/x-python",
   "name": "python",
   "nbconvert_exporter": "python",
   "pygments_lexer": "ipython3",
   "version": "3.9.13"
  }
 },
 "nbformat": 4,
 "nbformat_minor": 5
}
